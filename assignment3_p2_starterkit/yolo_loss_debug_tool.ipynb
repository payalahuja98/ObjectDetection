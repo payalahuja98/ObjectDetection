{
 "cells": [
  {
   "cell_type": "code",
   "execution_count": 1,
   "metadata": {},
   "outputs": [],
   "source": [
    "import torch\n",
    "from yolo_loss import YoloLoss"
   ]
  },
  {
   "cell_type": "markdown",
   "metadata": {},
   "source": [
    "# Yolo Loss Debug Tool\n",
    "We provide a simple debug tool for you to debug each part of the YoloLoss class. \n",
    "\n",
    "This tool is just for helping debug and you don't need to submit any results from this notebook. \n",
    "\n",
    "We highly suggest that you first make sure your yolo function works properly, before massive training. \n",
    "\n",
    "__NOTE__:\n",
    "This tool is designed to run on CPU. If you want to run on GPU, for every input data and output data loaded, add ```.to(device)```\n",
    "- if you get device (cpu/gpu) mis-match error like \"expected type torch.FloatTensor but got torch.cuda.FloatTensor\n",
    "\", make sure all your variables have consistent device assignment inside functions.\n"
   ]
  },
  {
   "cell_type": "code",
   "execution_count": 2,
   "metadata": {},
   "outputs": [],
   "source": [
    "# some help function\n",
    "def test_error(diff, test='', eps=1e-5):\n",
    "    if isinstance(diff, torch.Tensor):\n",
    "        diff = diff.cpu().detach().float()\n",
    "    print('Error is %f.' % diff)\n",
    "    if diff < eps:\n",
    "        print(\"- You pass the test for %s!\" % test)\n",
    "    else:\n",
    "        print(\"- emm.. something wrong. maybe double check your implemention.\")\n"
   ]
  },
  {
   "cell_type": "markdown",
   "metadata": {},
   "source": [
    "## Create A YoloLoss Instance"
   ]
  },
  {
   "cell_type": "code",
   "execution_count": 3,
   "metadata": {},
   "outputs": [],
   "source": [
    "# don't change the hyperparameter here\n",
    "yolo = YoloLoss(S=14, B=2, l_coord=5, l_noobj=0.5)"
   ]
  },
  {
   "cell_type": "markdown",
   "metadata": {},
   "source": [
    "## Test get_class_prediction_loss function\n",
    "- run the following block to check if your ```YoloLoss.get_class_prediction_loss()``` function implementation correctly.\n",
    "- Note: this test doesn't test edge cases, so passing this test doesn't guarantee bug-free. However, if you can't pass this test, then your implementation must have bug.\n",
    "- Note: This test assume your reduction method is 'sum'"
   ]
  },
  {
   "cell_type": "code",
   "execution_count": 4,
   "metadata": {},
   "outputs": [
    {
     "output_type": "stream",
     "name": "stdout",
     "text": [
      "Error is 0.000000.\n- You pass the test for get_class_prediction!\n"
     ]
    }
   ],
   "source": [
    "# load test cases\n",
    "func_name = 'get_class_prediction'\n",
    "input_data = torch.load(\"test_cases/%s_input.pt\" % func_name)\n",
    "class_pred = input_data['classes_pred']\n",
    "class_target = input_data['classes_target']\n",
    "output_data = torch.load(\"test_cases/%s_output.pt\" % func_name)\n",
    "gt_loss = output_data['class_loss']\n",
    "# calculate my implemented loss\n",
    "my_loss = yolo.get_class_prediction_loss(class_pred, class_target)\n",
    "# test the difference between my loss and the gt loss\n",
    "loss_diff = torch.sum((gt_loss - my_loss) ** 2)\n",
    "test_error(loss_diff, test=func_name)"
   ]
  },
  {
   "cell_type": "markdown",
   "metadata": {},
   "source": [
    "## Test get_regression_loss function\n",
    "- run the following block to check if your ```YoloLoss.get_regression_loss()``` function implementation correctly.\n",
    "- Note: this test doesn't test edge cases, so passing this test doesn't guarantee bug-free. However, if you can't pass this test, then your implementation must have bug.\n",
    "- Note: This test assume your reduction method is 'sum'"
   ]
  },
  {
   "cell_type": "code",
   "execution_count": 5,
   "metadata": {},
   "outputs": [
    {
     "output_type": "stream",
     "name": "stdout",
     "text": [
      "tensor(4.2675)\n",
      "tensor(1.5927, device='cuda:0')\n",
      "Error is 7.154899.\n",
      "- emm.. something wrong. maybe double check your implemention.\n"
     ]
    }
   ],
   "source": [
    "# load test cases\n",
    "func_name = \"get_regression\"\n",
    "input_data = torch.load(\"test_cases/%s_input.pt\" % func_name)\n",
    "box_pred_response = input_data['box_pred_response']\n",
    "box_target_response = input_data['box_target_response']\n",
    "output_data = torch.load(\"test_cases/%s_output.pt\" % func_name)\n",
    "gt_loss = output_data['reg_loss']\n",
    "print(gt_loss)\n",
    "\n",
    "# calculate my implemented loss\n",
    "my_loss = yolo.get_regression_loss(box_pred_response.cuda(), box_target_response.cuda())\n",
    "print(my_loss)\n",
    "\n",
    "# test the difference between my loss and the gt loss\n",
    "loss_diff = torch.sum((gt_loss - my_loss) ** 2)\n",
    "\n",
    "test_error(loss_diff, test=func_name)"
   ]
  },
  {
   "cell_type": "markdown",
   "metadata": {},
   "source": [
    "## Test get_contain_conf_loss function\n",
    "- run the following block to check if your ```YoloLoss.get_contain_conf_loss()``` function implementation correctly.\n",
    "- Note: this test doesn't test edge cases, so passing this test doesn't guarantee bug-free. However, if you can't pass this test, then your implementation must have bug."
   ]
  },
  {
   "cell_type": "code",
   "execution_count": 6,
   "metadata": {},
   "outputs": [
    {
     "output_type": "stream",
     "name": "stdout",
     "text": [
      "tensor(13.9620)\ntensor(8.9354)\nError is 25.266783.\n- emm.. something wrong. maybe double check your implemention.\n"
     ]
    }
   ],
   "source": [
    "func_name = \"get_contain_conf\"\n",
    "input_data = torch.load(\"test_cases/%s_input.pt\" % func_name)\n",
    "box_pred_response = input_data['box_pred_response']\n",
    "box_target_response_iou = input_data['box_target_response_iou']\n",
    "output_data = torch.load(\"test_cases/%s_output.pt\" % func_name)\n",
    "gt_loss = output_data['contain_loss']\n",
    "print(gt_loss)\n",
    "\n",
    "# calculate my implemented loss\n",
    "my_loss = yolo.get_contain_conf_loss(box_pred_response, box_target_response_iou)\n",
    "print(my_loss)\n",
    "\n",
    "# test the difference between my loss and the gt loss\n",
    "loss_diff = torch.sum((gt_loss - my_loss) ** 2)\n",
    "\n",
    "test_error(loss_diff, test=func_name)"
   ]
  },
  {
   "cell_type": "markdown",
   "metadata": {},
   "source": [
    "## Test get_no_object_loss function\n",
    "- run the following block to check if your ```YoloLoss.get_no_object_loss()``` function implementation correctly.\n",
    "- Note: this test doesn't test edge cases, so passing this test doesn't guarantee bug-free. However, if you can't pass this test, then your implementation must have bug."
   ]
  },
  {
   "cell_type": "code",
   "execution_count": 11,
   "metadata": {},
   "outputs": [
    {
     "output_type": "error",
     "ename": "NameError",
     "evalue": "name 'no_object_loss' is not defined",
     "traceback": [
      "\u001b[1;31m---------------------------------------------------------------------------\u001b[0m",
      "\u001b[1;31mNameError\u001b[0m                                 Traceback (most recent call last)",
      "\u001b[1;32m<ipython-input-11-5ef27c97bd71>\u001b[0m in \u001b[0;36m<module>\u001b[1;34m\u001b[0m\n\u001b[0;32m      9\u001b[0m \u001b[1;33m\u001b[0m\u001b[0m\n\u001b[0;32m     10\u001b[0m \u001b[1;31m# calculate my implemented loss\u001b[0m\u001b[1;33m\u001b[0m\u001b[1;33m\u001b[0m\u001b[1;33m\u001b[0m\u001b[0m\n\u001b[1;32m---> 11\u001b[1;33m \u001b[0mmy_loss\u001b[0m \u001b[1;33m=\u001b[0m \u001b[0myolo\u001b[0m\u001b[1;33m.\u001b[0m\u001b[0mget_no_object_loss\u001b[0m\u001b[1;33m(\u001b[0m\u001b[0mtarget_tensor\u001b[0m\u001b[1;33m,\u001b[0m \u001b[0mpred_tensor\u001b[0m\u001b[1;33m,\u001b[0m \u001b[0mno_object_mask\u001b[0m\u001b[1;33m)\u001b[0m\u001b[1;33m\u001b[0m\u001b[1;33m\u001b[0m\u001b[0m\n\u001b[0m\u001b[0;32m     12\u001b[0m \u001b[1;33m\u001b[0m\u001b[0m\n\u001b[0;32m     13\u001b[0m \u001b[1;31m# test the difference between my loss and the gt loss\u001b[0m\u001b[1;33m\u001b[0m\u001b[1;33m\u001b[0m\u001b[1;33m\u001b[0m\u001b[0m\n",
      "\u001b[1;32mc:\\Users\\Payal\\Documents\\Fall_2020\\Deep_Learning\\ObjectDetection\\assignment3_p2_starterkit\\yolo_loss.py\u001b[0m in \u001b[0;36mget_no_object_loss\u001b[1;34m(self, target_tensor, pred_tensor, no_object_mask)\u001b[0m\n\u001b[0;32m    123\u001b[0m         \u001b[1;31m##### CODE #####\u001b[0m\u001b[1;33m\u001b[0m\u001b[1;33m\u001b[0m\u001b[1;33m\u001b[0m\u001b[0m\n\u001b[0;32m    124\u001b[0m \u001b[1;33m\u001b[0m\u001b[0m\n\u001b[1;32m--> 125\u001b[1;33m         \u001b[1;32mreturn\u001b[0m \u001b[0mno_object_loss\u001b[0m\u001b[1;33m\u001b[0m\u001b[1;33m\u001b[0m\u001b[0m\n\u001b[0m\u001b[0;32m    126\u001b[0m \u001b[1;33m\u001b[0m\u001b[0m\n\u001b[0;32m    127\u001b[0m \u001b[1;33m\u001b[0m\u001b[0m\n",
      "\u001b[1;31mNameError\u001b[0m: name 'no_object_loss' is not defined"
     ]
    }
   ],
   "source": [
    "# load test cases input\n",
    "func_name = \"no_object_loss\"\n",
    "input_data = torch.load(\"test_cases/%s_input.pt\" % func_name)\n",
    "target_tensor = input_data['target_tensor']\n",
    "pred_tensor = input_data['pred_tensor']\n",
    "no_object_mask = input_data['no_object_mask']\n",
    "output_data = torch.load(\"test_cases/%s_output.pt\" % func_name)\n",
    "gt_loss = output_data['no_object_loss']\n",
    "\n",
    "# calculate my implemented loss\n",
    "my_loss = yolo.get_no_object_loss(target_tensor, pred_tensor, no_object_mask)\n",
    "\n",
    "# test the difference between my loss and the gt loss\n",
    "loss_diff = torch.sum((gt_loss - my_loss) ** 2)\n",
    "\n",
    "test_error(loss_diff, test=func_name)"
   ]
  },
  {
   "cell_type": "markdown",
   "metadata": {},
   "source": [
    "## Test find_best_iou_boxes function\n",
    "- run the following block to check if your ```YoloLoss.find_best_iou_boxes()``` function implementation correctly.\n",
    "- Note: this test doesn't test edge cases, so passing this test doesn't guarantee bug-free. However, if you can't pass this test, then your implementation must have bug."
   ]
  },
  {
   "cell_type": "code",
   "execution_count": null,
   "metadata": {},
   "outputs": [],
   "source": [
    "# load test cases input\n",
    "func_name = \"best_iou_boxes\"\n",
    "input_data = torch.load(\"test_cases/%s_input.pt\" % func_name)\n",
    "bounding_box_target = input_data['bounding_box_target']\n",
    "bounding_box_pred = input_data['bounding_box_pred']\n",
    "output_data = torch.load(\"test_cases/%s_output.pt\" % func_name)\n",
    "gt_box_target_iou = output_data['box_target_iou']\n",
    "gt_contains_object_response_mask = output_data['contains_object_response_mask']\n",
    "\n",
    "# calculate my implemented loss\n",
    "my_box_target_iou, my_contains_object_response_mask = yolo.find_best_iou_boxes(bounding_box_target, bounding_box_pred)\n",
    "\n",
    "# test the error for the first output\n",
    "iou_diff = torch.sum((gt_box_target_iou - my_box_target_iou) ** 2)\n",
    "test_error(loss_diff, test=\"the first output of %s\" % func_name) \n",
    "\n",
    "# test the error for the second output\n",
    "mask_diff = torch.sum((gt_contains_object_response_mask - my_contains_object_response_mask) ** 2)\n",
    "test_error(loss_diff, test=\"the second output of %s\" % func_name) "
   ]
  },
  {
   "cell_type": "markdown",
   "metadata": {},
   "source": [
    "## Test YoloLoss function\n",
    "- run the following block to check if your ```YoloLoss.forward()``` function implementation correctly.\n",
    "- Note: this test doesn't test edge cases, so passing this test doesn't guarantee bug-free. However, if you can't pass this test, then your implementation must have bug."
   ]
  },
  {
   "cell_type": "code",
   "execution_count": null,
   "metadata": {},
   "outputs": [],
   "source": [
    "input_data = torch.load(\"test_cases/full_input.pt\")\n",
    "pred_tensor = input_data['pred_tensor']\n",
    "target_tensor = input_data['target_tensor']\n",
    "output_data = torch.load(\"test_cases/full_output.pt\")\n",
    "gt_loss = output_data['total_loss']\n",
    "\n",
    "# calculate my implemented loss\n",
    "my_loss = yolo(pred_tensor, target_tensor)\n",
    "\n",
    "# test the difference between my loss and the gt loss\n",
    "test_error(loss_diff, test=\"yolo\")    "
   ]
  }
 ],
 "metadata": {
  "kernelspec": {
   "name": "Python 3.8.6 64-bit",
   "display_name": "Python 3.8.6 64-bit",
   "metadata": {
    "interpreter": {
     "hash": "b556268c00d1fd48e7b8a0647e8ef739de37696dde2925bda6b5297920d66a44"
    }
   }
  },
  "language_info": {
   "codemirror_mode": {
    "name": "ipython",
    "version": 3
   },
   "file_extension": ".py",
   "mimetype": "text/x-python",
   "name": "python",
   "nbconvert_exporter": "python",
   "pygments_lexer": "ipython3",
   "version": "3.8.6-final"
  }
 },
 "nbformat": 4,
 "nbformat_minor": 2
}